{
 "cells": [
  {
   "cell_type": "markdown",
   "metadata": {},
   "source": [
    "<center> <h1>Análise Exploratória de Dados - Parte 1</h1> </center>\n",
    "<center> <h3>Pré-processamento de dados usando Python</h3> </center>"
   ]
  },
  {
   "cell_type": "markdown",
   "metadata": {},
   "source": [
    "### O que é Análise Exploratória de Dados?"
   ]
  },
  {
   "cell_type": "markdown",
   "metadata": {},
   "source": [
    "Conjunto de técnicas, numéricas e gráficas, que permite:\n",
    "\n",
    "* maximizar a percepção de um conjunto de dados;\n",
    "* descobrir estrutura subjacente;\n",
    "* extrair variáveis importantes;\n",
    "* detectar outliers e anomalias;\n",
    "* testar premissas subjacentes;\n",
    "* desenvolver modelos parcimoniosos; e\n",
    "* determinar configurações ideais de fatores.\n",
    "\n",
    "Em AED, a sequência de ação para resolução de problemas é sempre: \n",
    "\n",
    "__Problema => Dados => Análise => Conclusões__\n",
    "\n",
    "#### Nosso enfoque...\n",
    "\n",
    "1. Como ler os dados;\n",
    "2. Como identificar os dados;\n",
    "3. Como manipular os dados;\n",
    "4. Como analisar os dados."
   ]
  },
  {
   "cell_type": "markdown",
   "metadata": {},
   "source": [
    "### Como ler os dados"
   ]
  },
  {
   "cell_type": "markdown",
   "metadata": {},
   "source": [
    "Python tem diversas estruturas para armazenamento de dados. \n",
    "\n",
    "Algumas delas são \"internas\": listas, tuplas, conjuntos, dicionários.\n",
    "\n",
    "Outras, precisam de bibliotecas específicas: ndarray (Numpy), Series e DataFrames (Pandas).\n",
    "\n",
    "##### Listas\n",
    "\n",
    "* mutáveis\n",
    "* ordenadas\n",
    "* heterogêneas\n",
    "* indexada por posição\n",
    "* delimitada por colchetes [ ]"
   ]
  },
  {
   "cell_type": "code",
   "execution_count": null,
   "metadata": {},
   "outputs": [],
   "source": [
    "lista = ['casa', 1.0, 3, [1,2,3]]\n",
    "lista"
   ]
  },
  {
   "cell_type": "code",
   "execution_count": null,
   "metadata": {},
   "outputs": [],
   "source": [
    "type(lista)"
   ]
  },
  {
   "cell_type": "markdown",
   "metadata": {},
   "source": [
    "Indexação feita por posição"
   ]
  },
  {
   "cell_type": "code",
   "execution_count": null,
   "metadata": {},
   "outputs": [],
   "source": [
    "lista[0]"
   ]
  },
  {
   "cell_type": "code",
   "execution_count": null,
   "metadata": {},
   "outputs": [],
   "source": [
    "lista[2]"
   ]
  },
  {
   "cell_type": "code",
   "execution_count": null,
   "metadata": {},
   "outputs": [],
   "source": [
    "lista[-1]"
   ]
  },
  {
   "cell_type": "code",
   "execution_count": null,
   "metadata": {},
   "outputs": [],
   "source": [
    "lista[-1][0]"
   ]
  },
  {
   "cell_type": "markdown",
   "metadata": {},
   "source": [
    "Um problema sério: operações com listas"
   ]
  },
  {
   "cell_type": "code",
   "execution_count": null,
   "metadata": {},
   "outputs": [],
   "source": [
    "a = [1,2,3]"
   ]
  },
  {
   "cell_type": "code",
   "execution_count": null,
   "metadata": {},
   "outputs": [],
   "source": [
    "a*3"
   ]
  },
  {
   "cell_type": "code",
   "execution_count": null,
   "metadata": {},
   "outputs": [],
   "source": [
    "b = []\n",
    "for i in a:\n",
    "    b.append(i*3)\n",
    "b"
   ]
  },
  {
   "cell_type": "markdown",
   "metadata": {},
   "source": [
    "#### Dicionários\n",
    "\n",
    "* mutáveis\n",
    "* não ordenados\n",
    "* heterogêneos\n",
    "* indexada por chaves\n",
    "* delimitada por chaves { }"
   ]
  },
  {
   "cell_type": "code",
   "execution_count": null,
   "metadata": {},
   "outputs": [],
   "source": [
    "Dicionario = {\"Nome\": \"Zé\", \"Idade\": 10, \"Cidade\": \"Nazarezinho\"}\n",
    "Dicionario"
   ]
  },
  {
   "cell_type": "code",
   "execution_count": null,
   "metadata": {},
   "outputs": [],
   "source": [
    "type(Dicionario)"
   ]
  },
  {
   "cell_type": "markdown",
   "metadata": {},
   "source": [
    "Indexação por chaves"
   ]
  },
  {
   "cell_type": "code",
   "execution_count": null,
   "metadata": {},
   "outputs": [],
   "source": [
    "Dicionario['Nome']"
   ]
  },
  {
   "cell_type": "markdown",
   "metadata": {},
   "source": [
    "#### ndarray - Numpy\n",
    "\n",
    "A biblioteca Numpy é a biblioteca numérica do Python, e é a base de todas as grandes bibliotecas do ecossistema Python de computação científica e análise de dados, como Scipy, Matplotlib e a própria Pandas. \n",
    "\n",
    "A biblioteca Numpy cria uma nova estrutura de dados, chamada de ndarray, que possue algumas similaridades com listas, mas alguns poderes a mais, com destaque para a capacidade de vetorização, que possibilita que qualquer operação feita com a estrutura seja feita elemento a elemento sem a necessidade de um laço para acessar esses elementos, tornando, assim, a operação computacionalmente mais eficiente."
   ]
  },
  {
   "cell_type": "code",
   "execution_count": null,
   "metadata": {},
   "outputs": [],
   "source": [
    "import numpy as np"
   ]
  },
  {
   "cell_type": "markdown",
   "metadata": {},
   "source": [
    "Existem várias formas de criar arrays, pode ser através do método np.array(): \n",
    "\n",
    "1. usando uma lista:"
   ]
  },
  {
   "cell_type": "code",
   "execution_count": null,
   "metadata": {},
   "outputs": [],
   "source": [
    "arr = np.array([-2, 4.3, 7, 9])\n",
    "arr"
   ]
  },
  {
   "cell_type": "markdown",
   "metadata": {},
   "source": [
    "2. usando o método arange"
   ]
  },
  {
   "cell_type": "code",
   "execution_count": null,
   "metadata": {},
   "outputs": [],
   "source": [
    "arr = np.arange(1, 32, 2)\n",
    "arr"
   ]
  },
  {
   "cell_type": "markdown",
   "metadata": {},
   "source": [
    "3. usando o método linspace"
   ]
  },
  {
   "cell_type": "code",
   "execution_count": null,
   "metadata": {},
   "outputs": [],
   "source": [
    "arr = np.linspace(1, 100, 10)\n",
    "arr"
   ]
  },
  {
   "cell_type": "markdown",
   "metadata": {},
   "source": [
    "4. outros métodos"
   ]
  },
  {
   "cell_type": "code",
   "execution_count": null,
   "metadata": {},
   "outputs": [],
   "source": [
    "arr1 = np.empty((6,4)) # Array vazia com o método empty() normalmente a saída é lixo de memória ou zeros\n",
    "print(arr1, '\\n')\n",
    "\n",
    "arr2 = np.eye(4) # eye cria uma array de duas dimensões com 1 na da diagnoal e 0 nos outros elementos\n",
    "print(arr2, '\\n')\n",
    "\n",
    "arr3 = np.zeros(8) # array contendo 8 'zeros'\n",
    "print (arr3, '\\n')\n",
    "\n",
    "arr4 = np.ones((4,3)) # array contendo 12 'uns', no formato 4 x 3\n",
    "print(arr4)"
   ]
  },
  {
   "cell_type": "markdown",
   "metadata": {},
   "source": [
    "Vetorização"
   ]
  },
  {
   "cell_type": "code",
   "execution_count": null,
   "metadata": {},
   "outputs": [],
   "source": [
    "# vamos criar as arrays A e B para fazer operações com elas\n",
    "\n",
    "A = np.arange(10)\n",
    "B = np.arange(10,38,3)\n",
    "\n",
    "print (' A: ', A, '\\n', 'B: ', B)"
   ]
  },
  {
   "cell_type": "code",
   "execution_count": null,
   "metadata": {},
   "outputs": [],
   "source": [
    "somar = A + B\n",
    "subtrair = A - B\n",
    "dividir = A / B\n",
    "multiplicar = A * B\n",
    "\n",
    "print('somar: ', somar )\n",
    "print('subtrair: ', subtrair )\n",
    "print('dividir: ', dividir )\n",
    "print('multiplicar: ', multiplicar)"
   ]
  },
  {
   "cell_type": "markdown",
   "metadata": {},
   "source": [
    "Indexação"
   ]
  },
  {
   "cell_type": "markdown",
   "metadata": {},
   "source": [
    "![Image of Yaktocat](http://www.scipy-lectures.org/_images/numpy_indexing.png)"
   ]
  },
  {
   "cell_type": "markdown",
   "metadata": {},
   "source": [
    "## A biblioteca Pandas"
   ]
  },
  {
   "cell_type": "markdown",
   "metadata": {},
   "source": [
    "A biblioteca Pandas oferece duas novas estruturas de dados: Series (unidimensional) e DataFrame (bidimensional), que une o melhor dos mundos vistos antes:\n",
    "\n",
    "* mutáveis\n",
    "* heterogêneas\n",
    "* vetorizáveis\n",
    "* indexadas por índices específicos"
   ]
  },
  {
   "cell_type": "code",
   "execution_count": null,
   "metadata": {},
   "outputs": [],
   "source": [
    "import pandas as pd    "
   ]
  },
  {
   "cell_type": "markdown",
   "metadata": {},
   "source": [
    "As unidades básicas de trabalho com Pandas são as <b>'Series'</b> e os <b>'DataFrames'</b>. \n",
    "\n",
    "Series nada mais são do que um conjunto de elementos de 1 dimensão com índices. Series podem conter basicamente qualquer objeto: int , float, string, etc...\n",
    "A forma mais fácil para criar uma series é através da função <i>pd.Series(data=, index=):</i>"
   ]
  },
  {
   "cell_type": "code",
   "execution_count": null,
   "metadata": {},
   "outputs": [],
   "source": [
    "s1 = pd.Series(data = [10, 20, 30, 40, 50], index =['a', 'b', 'c', 'd','e'])\n",
    "s1"
   ]
  },
  {
   "cell_type": "code",
   "execution_count": null,
   "metadata": {},
   "outputs": [],
   "source": [
    "s1 = pd.Series(data = [10, 20, 30, 40, 50], index =['a', 'b', 'c', 'd', 'e','f'])"
   ]
  },
  {
   "cell_type": "code",
   "execution_count": null,
   "metadata": {},
   "outputs": [],
   "source": [
    "# usando um dicionário\n",
    "d = {'Campeão': 'Flamengo', 'Vice':'Vasco', 'Terceiro':'Bangu'}\n",
    "s2 = pd.Series(d)\n",
    "s2"
   ]
  },
  {
   "cell_type": "code",
   "execution_count": null,
   "metadata": {},
   "outputs": [],
   "source": [
    "d = {'b': 1, 'a': 0, 'c': 2}\n",
    "s3 = pd.Series(d, index=['a','b'])\n",
    "s3"
   ]
  },
  {
   "cell_type": "code",
   "execution_count": null,
   "metadata": {},
   "outputs": [],
   "source": [
    "# usando um numpy array\n",
    "dados = np.random.random(4)\n",
    "indices = np.arange(0, 8, 2)\n",
    "s4 = pd.Series(data = dados, index = indices)\n",
    "s4"
   ]
  },
  {
   "cell_type": "code",
   "execution_count": null,
   "metadata": {},
   "outputs": [],
   "source": [
    "# usando uma variável escalável\n",
    "s5 = pd.Series(-9, index=['a', 'b', 'c', 'd'])\n",
    "s5"
   ]
  },
  {
   "cell_type": "markdown",
   "metadata": {},
   "source": [
    "## <u>DataFrames: </u>"
   ]
  },
  {
   "cell_type": "markdown",
   "metadata": {},
   "source": [
    " são simplesmente um conjunto de séries que compartilham o mesmo índice. Similiar a uma tabela ou planilha do excel. É objeto Pandas mais utilizado! Por isso é muito importante dominar todas as operações que envolvam dataframes. Existem várias formas de criar dataframes, vamos ver as mais importantes:"
   ]
  },
  {
   "cell_type": "markdown",
   "metadata": {
    "collapsed": true
   },
   "source": [
    "1)  Através da função:   <i>pd.DataFrame(data= , index= , columns=)"
   ]
  },
  {
   "cell_type": "code",
   "execution_count": null,
   "metadata": {},
   "outputs": [],
   "source": [
    "# Data aceita diferentes inputs:\n",
    "\n",
    "# Dicionário\n",
    "d = {'Times Paulistas': ['São Paulo', 'Santos', 'Corinthians'], \n",
    "     'Times Cariocas': ['Flamengo', 'Fluminense', 'Botafogo'], \n",
    "     'Times Ruins': ['Palmeiras', 'Vasco', 'Remo']}\n",
    "df = pd.DataFrame(d)\n",
    "print(df, '\\n')\n",
    "\n",
    "# Arrays\n",
    "dados = np.random.random((5,3))\n",
    "df2 = pd.DataFrame(data = dados, index = np.arange(5), columns = np.random.randint(1, 100, 3))\n",
    "print (df2, '\\n')\n",
    "\n",
    "# Listas ou Tuplas\n",
    "listas = [[9,3,6], [6,2,9], [6,1,6]]\n",
    "df3 = pd.DataFrame(listas, index = (2,3,4), columns = ['A', 'B', 'C'])\n",
    "print (df3)"
   ]
  },
  {
   "cell_type": "markdown",
   "metadata": {},
   "source": [
    "\\begin{exercise}\n",
    "Como alterar índices, valores e nome de colunas de um dataframe? Dê um exemplo usando um dos criados acima.\n",
    "\\end{exercise}\n"
   ]
  },
  {
   "cell_type": "markdown",
   "metadata": {},
   "source": [
    "\\begin{exercise}\n",
    "Como juntar as duas séries a seguir em um únido dataframe?\n",
    "\\end{exercise}"
   ]
  },
  {
   "cell_type": "code",
   "execution_count": null,
   "metadata": {},
   "outputs": [],
   "source": [
    "ser1 = pd.Series(list('abcedfghijklmnopqrstuvwxyz'))\n",
    "ser2 = pd.Series(np.arange(26))"
   ]
  },
  {
   "cell_type": "markdown",
   "metadata": {
    "collapsed": true
   },
   "source": [
    "2)   Por leitura de arquivo de diferentes formatos com os métodos:  \n",
    "    <i>pd.read_csv();\n",
    "    pd.read_excel();\n",
    "    pd.read_pickle();\n",
    "    pd.read_sql();\n",
    "    pd.read_json();\n",
    "    pd.read_html() e outros...\n",
    "    "
   ]
  },
  {
   "cell_type": "code",
   "execution_count": null,
   "metadata": {},
   "outputs": [],
   "source": [
    "# basta passar a localização do arquivo para criar um novo dataframe\n",
    "\n",
    "df = pd.read_csv('https://raw.githubusercontent.com/uiuc-cse/data-fa14/gh-pages/data/iris.csv')\n",
    "df.head()      #  o método head() retorna as primeiras cinco linhas do dataframe"
   ]
  },
  {
   "cell_type": "markdown",
   "metadata": {
    "collapsed": true
   },
   "source": [
    "Veja que só passamos como argumento 'iris.csv', isso porque o arquivo csv estava na mesma pasta que o nosso código, caso contrário seria necessário passar todo o caminho, exemplo: \"c:/users/exemplo/pasta/arquivo.csv\".\n",
    "O dataset (conjunto de dados) iris.csv foi baixado de kaggle.com e contém características de três espécies de flores."
   ]
  },
  {
   "cell_type": "markdown",
   "metadata": {
    "collapsed": true
   },
   "source": [
    "Todos os outros métodos são bem semelhantes, o que muda um pouco é o read_html(). Veja o exemplo:"
   ]
  },
  {
   "cell_type": "code",
   "execution_count": null,
   "metadata": {},
   "outputs": [],
   "source": [
    "# Criamos um dataframe chamado fut e passamos o link que contém a tabela que queremos:\n",
    "fut = pd.read_html(\"https://pt.wikipedia.org/wiki/Campeonato_Carioca_de_Futebol\")\n",
    "print(\"Quantidade de tabelas:\", len(fut))"
   ]
  },
  {
   "cell_type": "markdown",
   "metadata": {},
   "source": [
    "Perceba que o Pandas pega todas as tabelas presentes na página, como só queremos uma delas, selecionamos a escolhida:"
   ]
  },
  {
   "cell_type": "code",
   "execution_count": null,
   "metadata": {},
   "outputs": [],
   "source": [
    "fut = fut[5]   \n",
    "fut.head()"
   ]
  },
  {
   "cell_type": "markdown",
   "metadata": {},
   "source": [
    "### Output:"
   ]
  },
  {
   "cell_type": "markdown",
   "metadata": {},
   "source": [
    "Pandas dá a opção de salvar nosso df em diferentes formatos: (análogo aos métodos de leitura)\n",
    "\n",
    "    to_csv(); to_excel(), to_pickle(), to_json(), to_sql(), to_html e outros..."
   ]
  },
  {
   "cell_type": "code",
   "execution_count": null,
   "metadata": {},
   "outputs": [],
   "source": [
    "# Aquela tabela que lemos no formato .html, podemos salvar assim:\n",
    "\n",
    "fut.to_excel('Tabela dos Campeões.xlsx')           # Excel\n",
    "fut.to_csv('Tabela dos Campeões.csv')              # Arquivo .csv\n",
    "fut.to_pickle('Tabela dos Campeões.pickle')        # Pickle"
   ]
  },
  {
   "cell_type": "markdown",
   "metadata": {
    "collapsed": true
   },
   "source": [
    "# Atributos e Funções:"
   ]
  },
  {
   "cell_type": "markdown",
   "metadata": {},
   "source": [
    "Podemos obter muitas informações dos nossos dataframes, para isso basta conhecer as principais funções disponíveis:"
   ]
  },
  {
   "cell_type": "markdown",
   "metadata": {},
   "source": [
    ".head() e .tail()"
   ]
  },
  {
   "cell_type": "code",
   "execution_count": null,
   "metadata": {},
   "outputs": [],
   "source": [
    "# Criamos nosso dataframe\n",
    "df = pd.read_csv('https://raw.githubusercontent.com/uiuc-cse/data-fa14/gh-pages/data/iris.csv')\n",
    "\n",
    "# Como já vimos, para retornar as n primeiras usamos:\n",
    "print(df.head(4))   # se não passar nenhum valor, o padrão é 5\n",
    "\n",
    "# Para ver as últimas linhas do nosso df:\n",
    "print(df.tail(3))"
   ]
  },
  {
   "cell_type": "code",
   "execution_count": null,
   "metadata": {},
   "outputs": [],
   "source": [
    "# Para obter as colunas de seu dataframe:\n",
    "\n",
    "print (df.columns)\n",
    "\n",
    "# Para obter os índices de seu dataframe:\n",
    "\n",
    "print (df.index)"
   ]
  },
  {
   "cell_type": "markdown",
   "metadata": {},
   "source": [
    "Para obter informações rápidas, use os métodos .info() e .describe()"
   ]
  },
  {
   "cell_type": "code",
   "execution_count": null,
   "metadata": {},
   "outputs": [],
   "source": [
    "# Retorna quantidade de linhas, colunas, tipo de dados...\n",
    "\n",
    "df.info()"
   ]
  },
  {
   "cell_type": "markdown",
   "metadata": {},
   "source": [
    "#### Para ser aplicado nas colunas (lembre que cada coluna de um df é um Series):"
   ]
  },
  {
   "cell_type": "code",
   "execution_count": null,
   "metadata": {},
   "outputs": [],
   "source": [
    "# Para saber quais são os valores únicos que determinada coluna possui, use .unique()\n",
    "\n",
    "df['species'].unique()"
   ]
  },
  {
   "cell_type": "code",
   "execution_count": null,
   "metadata": {},
   "outputs": [],
   "source": [
    "# Existem duas formas de saber a quantidade de valores únicos:\n",
    "\n",
    "print(len(df['species'].unique()))\n",
    "print(df['species'].nunique())"
   ]
  },
  {
   "cell_type": "code",
   "execution_count": null,
   "metadata": {},
   "outputs": [],
   "source": [
    "# Outro método importante é o .value_counts() , retorna a contagem de cada valor presente na coluna:\n",
    "\n",
    "df['species'].value_counts()"
   ]
  },
  {
   "cell_type": "markdown",
   "metadata": {
    "collapsed": true
   },
   "source": [
    "# Seleção e Indexação:"
   ]
  },
  {
   "cell_type": "code",
   "execution_count": null,
   "metadata": {},
   "outputs": [],
   "source": [
    "# Dataframe de Exemplo\n",
    "df = pd.DataFrame({'Times_Paulistas': ['São Paulo', 'Santos', 'Corinthians'], \n",
    "     'Times_Cariocas': ['Flamengo', 'Fluminense', 'Botafogo'], \n",
    "     'Times_Ruins': ['Palmeiras', 'Vasco', 'Remo']}, index = ['Campeão', 'Vice', 'Terceiro'])\n",
    "df"
   ]
  },
  {
   "cell_type": "markdown",
   "metadata": {},
   "source": [
    "Existem duas formas de selecionar <u>colunas</u> do seu df:"
   ]
  },
  {
   "cell_type": "code",
   "execution_count": null,
   "metadata": {},
   "outputs": [],
   "source": [
    "df.Times_Paulistas\n",
    "\n",
    "# ou, a minha preferência pessoal:\n",
    "\n",
    "df['Times_Paulistas']"
   ]
  },
  {
   "cell_type": "code",
   "execution_count": null,
   "metadata": {},
   "outputs": [],
   "source": [
    "# Para pegar mais de uma coluna, basta:\n",
    "\n",
    "df[['Times_Paulistas', 'Times_Cariocas']]    # perceba que estamos passando uma lista de colunas ao invés de uma coluna,\n",
    "                                             # por isso os colchetes duplos... Retorna um dataframe!"
   ]
  },
  {
   "cell_type": "markdown",
   "metadata": {},
   "source": [
    "Existem duas formas para selecionar <u>linhas</u>:  pela posição ou pelo nome do index"
   ]
  },
  {
   "cell_type": "code",
   "execution_count": null,
   "metadata": {},
   "outputs": [],
   "source": [
    "# Pela posição, com iloc[]:\n",
    "\n",
    "df.iloc[0]"
   ]
  },
  {
   "cell_type": "code",
   "execution_count": null,
   "metadata": {},
   "outputs": [],
   "source": [
    "# Pelo nome do índice:\n",
    "\n",
    "df.loc['Vice']"
   ]
  },
  {
   "cell_type": "code",
   "execution_count": null,
   "metadata": {},
   "outputs": [],
   "source": [
    "# Para escolher uma única célula, use os rótulos da coluna e da linha:\n",
    "\n",
    "df['Times_Ruins']['Vice']"
   ]
  },
  {
   "cell_type": "code",
   "execution_count": null,
   "metadata": {},
   "outputs": [],
   "source": [
    "# Adicionar colunas é muito simples\n",
    "\n",
    "df['Nova Coluna'] = [1,2,3]"
   ]
  },
  {
   "cell_type": "markdown",
   "metadata": {},
   "source": [
    "### Índices:"
   ]
  },
  {
   "cell_type": "code",
   "execution_count": null,
   "metadata": {},
   "outputs": [],
   "source": [
    "# Para mudar o índice - escolhemos como índice a nova coluna\n",
    "\n",
    "df.set_index('Nova Coluna')  "
   ]
  },
  {
   "cell_type": "markdown",
   "metadata": {},
   "source": [
    "ATENÇÃO!!! A maioria das mudanças que fizermos nos dataframes não é permanente, na verdade o Pandas cria um novo objeto\n",
    "e retorna o mesmo. \n",
    "Isso evita a perda de informação acidental. Para que a mudança seja permanente, use o parâmetro <i>inplace = True"
   ]
  },
  {
   "cell_type": "code",
   "execution_count": null,
   "metadata": {},
   "outputs": [],
   "source": [
    "# Nesse caso não tem sentido mudar o índice, mas veja que a mudança não é permanente\n",
    "\n",
    "df"
   ]
  },
  {
   "cell_type": "code",
   "execution_count": null,
   "metadata": {},
   "outputs": [],
   "source": [
    "# Para resetar o índice, fazendo com que a mudança seja permanente\n",
    "\n",
    "df.reset_index(inplace = True)\n",
    "df"
   ]
  },
  {
   "cell_type": "markdown",
   "metadata": {},
   "source": [
    "### SELEÇÃO CONDICIONAL:"
   ]
  },
  {
   "cell_type": "code",
   "execution_count": null,
   "metadata": {},
   "outputs": [],
   "source": [
    "data = {'name': ['Jason', 'Molly', 'Tina', 'Jake', 'Amy'], \n",
    "        'year': [2012, 2012, 2013, 2014, 2014], \n",
    "        'reports': [4, 24, 31, 2, 3],\n",
    "        'coverage': [25, 94, 57, 62, 70]}\n",
    "df = pd.DataFrame(data, index = ['Cochice', 'Pima', 'Santa Cruz', 'Maricopa', 'Yuma'])\n",
    "df"
   ]
  },
  {
   "cell_type": "markdown",
   "metadata": {},
   "source": [
    "Vendo somente as linhas em que cobertura é maior que 50"
   ]
  },
  {
   "cell_type": "code",
   "execution_count": null,
   "metadata": {},
   "outputs": [],
   "source": [
    "df[df.coverage > 50]"
   ]
  },
  {
   "cell_type": "markdown",
   "metadata": {},
   "source": [
    "Vendo as linhas em que coverage é maior que 50 e reports menos que 4"
   ]
  },
  {
   "cell_type": "code",
   "execution_count": null,
   "metadata": {},
   "outputs": [],
   "source": [
    "df[(df.coverage  > 50) & (df.reports < 4)]"
   ]
  },
  {
   "cell_type": "markdown",
   "metadata": {},
   "source": [
    "Outros exemplos"
   ]
  },
  {
   "cell_type": "code",
   "execution_count": null,
   "metadata": {},
   "outputs": [],
   "source": [
    "raw_data = {'first_name': ['Jason', 'Molly', np.nan, np.nan, np.nan], \n",
    "        'nationality': ['USA', 'USA', 'France', 'UK', 'UK'], \n",
    "        'age': [42, 52, 36, 24, 70]}\n",
    "df = pd.DataFrame(raw_data, columns = ['first_name', 'nationality', 'age'])\n",
    "df"
   ]
  },
  {
   "cell_type": "code",
   "execution_count": null,
   "metadata": {},
   "outputs": [],
   "source": [
    "# Create variable with TRUE if nationality is USA\n",
    "american = df['nationality'] == \"USA\"\n",
    "\n",
    "# Create variable with TRUE if age is greater than 50\n",
    "elderly = df['age'] > 50\n",
    "\n",
    "# Select all cases where nationality is USA and age is greater than 50\n",
    "df[american & elderly]"
   ]
  },
  {
   "cell_type": "code",
   "execution_count": null,
   "metadata": {},
   "outputs": [],
   "source": [
    "# Select all cases where the first name is not missing and nationality is USA \n",
    "df[df['first_name'].notnull() & (df['nationality'] == \"USA\")]"
   ]
  },
  {
   "cell_type": "markdown",
   "metadata": {},
   "source": [
    "### Aplicando funções e Operações nos dataframes:"
   ]
  },
  {
   "cell_type": "code",
   "execution_count": null,
   "metadata": {},
   "outputs": [],
   "source": [
    "df = pd.DataFrame({'cor': ['preto','preto','preto','branco','branco','branco'],\n",
    "                       'letra': ['A', 'E', 'I', 'A', 'E', 'I'],\n",
    "                       'num': [1, 2, 3, 4, 5, 6]})\n",
    "df"
   ]
  },
  {
   "cell_type": "code",
   "execution_count": null,
   "metadata": {},
   "outputs": [],
   "source": [
    "# Vamos usar a coluna 'num' para aplicar algumas funções\n",
    "\n",
    "df['num']"
   ]
  },
  {
   "cell_type": "code",
   "execution_count": null,
   "metadata": {},
   "outputs": [],
   "source": [
    "# Primeiro passo é escrever uma função\n",
    "\n",
    "def dobrar(x):      # função simples que retorna o dobro do número passado\n",
    "    return x * 2"
   ]
  },
  {
   "cell_type": "code",
   "execution_count": null,
   "metadata": {},
   "outputs": [],
   "source": [
    "# Agora é só aplicar na coluna desejada com .apply(), passando a nossa função como argumento\n",
    "\n",
    "df['num'] = df['num'].apply(dobrar)    # para tornar a alteração permanente, atribuímos o resultado a nossa coluna"
   ]
  },
  {
   "cell_type": "code",
   "execution_count": null,
   "metadata": {},
   "outputs": [],
   "source": [
    "df['num']"
   ]
  },
  {
   "cell_type": "markdown",
   "metadata": {},
   "source": [
    "Acredito que deu pra trazer pelo menos o básico da biblioteca Pandas nesse tutorial. Eu sei que é muita coisa, mas tem muito mais\n",
    "coisa ainda para ser estudado! Se quiser se aprofundar mais, leia a documentação oficial, links abaixo."
   ]
  },
  {
   "cell_type": "markdown",
   "metadata": {
    "collapsed": true
   },
   "source": [
    "<b>FONTES:</b>\n",
    "\n",
    "1 - http://pandas.pydata.org/ <br>\n",
    "2 - http://pandas.pydata.org/pandas-docs/stable/<br>\n",
    "3 - http://pandas.pydata.org/pandas-docs/stable/10min.html#min<br>\n",
    "4 - http://pandas.pydata.org/pandas-docs/stable/api.html#general-functions<br>"
   ]
  },
  {
   "cell_type": "code",
   "execution_count": null,
   "metadata": {},
   "outputs": [],
   "source": []
  }
 ],
 "metadata": {
  "anaconda-cloud": {},
  "kernelspec": {
   "display_name": "Python 3",
   "language": "python",
   "name": "python3"
  },
  "language_info": {
   "codemirror_mode": {
    "name": "ipython",
    "version": 3
   },
   "file_extension": ".py",
   "mimetype": "text/x-python",
   "name": "python",
   "nbconvert_exporter": "python",
   "pygments_lexer": "ipython3",
   "version": "3.7.3"
  },
  "latex_envs": {
   "LaTeX_envs_menu_present": true,
   "autoclose": false,
   "autocomplete": true,
   "bibliofile": "biblio.bib",
   "cite_by": "apalike",
   "current_citInitial": 1,
   "eqLabelWithNumbers": true,
   "eqNumInitial": 1,
   "hotkeys": {
    "equation": "Ctrl-E",
    "itemize": "Ctrl-I"
   },
   "labels_anchors": false,
   "latex_user_defs": false,
   "report_style_numbering": false,
   "user_envs_cfg": false
  },
  "toc": {
   "base_numbering": 1,
   "nav_menu": {},
   "number_sections": true,
   "sideBar": true,
   "skip_h1_title": false,
   "title_cell": "Table of Contents",
   "title_sidebar": "Contents",
   "toc_cell": false,
   "toc_position": {},
   "toc_section_display": true,
   "toc_window_display": false
  }
 },
 "nbformat": 4,
 "nbformat_minor": 1
}
