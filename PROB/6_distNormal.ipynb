{
 "cells": [
  {
   "cell_type": "markdown",
   "metadata": {
    "slideshow": {
     "slide_type": "slide"
    }
   },
   "source": [
    "# Normal Distribution\n",
    "\n",
    "- Different displays of normally distributed data\n",
    "- Compare different samples from a normal distribution\n",
    "- Check for normality\n",
    "- Work with the cumulative distribution function (CDF)\n",
    "\n",
    "Author:  Thomas Haslwanter, Feb-2017"
   ]
  },
  {
   "cell_type": "code",
   "execution_count": null,
   "metadata": {
    "slideshow": {
     "slide_type": "fragment"
    }
   },
   "outputs": [],
   "source": [
    "%pylab inline\n",
    "import scipy.stats as stats\n",
    "\n",
    "# seaborn is a package for the visualization of statistical data\n",
    "import seaborn as sns\n",
    "sns.set(style='ticks')"
   ]
  },
  {
   "cell_type": "markdown",
   "metadata": {
    "slideshow": {
     "slide_type": "slide"
    }
   },
   "source": [
    "## Different Representations"
   ]
  },
  {
   "cell_type": "code",
   "execution_count": null,
   "metadata": {
    "slideshow": {
     "slide_type": "fragment"
    }
   },
   "outputs": [],
   "source": [
    "''' Different aspects of a normal distribution'''\n",
    "# Generate the data\n",
    "x = r_[-10:10:0.1]\n",
    "rv = stats.norm(0,1)   # random variate\n",
    "\n",
    "x2 = r_[0:1:0.001]\n",
    "\n",
    "ax = subplot2grid((3,2),(0,0), colspan=2)\n",
    "plot(x,rv.pdf(x))\n",
    "xlim([-10,10])\n",
    "title('Normal Distribution - PDF')\n",
    "\n",
    "subplot(323)\n",
    "plot(x,rv.cdf(x))\n",
    "xlim([-4,4])\n",
    "title('CDF: cumulative distribution fct')\n",
    "\n",
    "subplot(324)\n",
    "plot(x,rv.sf(x))\n",
    "xlim([-4,4])\n",
    "title('SF: survival fct')\n",
    "\n",
    "subplot(325)\n",
    "plot(x2,rv.ppf(x2))\n",
    "title('PPF')\n",
    "\n",
    "subplot(326)\n",
    "plot(x2,rv.isf(x2))\n",
    "title('ISF')\n",
    "tight_layout()\n",
    "show()\n",
    "    "
   ]
  },
  {
   "cell_type": "markdown",
   "metadata": {
    "slideshow": {
     "slide_type": "subslide"
    }
   },
   "source": [
    "## Shifted distribution"
   ]
  },
  {
   "cell_type": "code",
   "execution_count": null,
   "metadata": {
    "slideshow": {
     "slide_type": "fragment"
    }
   },
   "outputs": [],
   "source": [
    "'''PDF, scatter plot, and histogram.'''\n",
    "# Generate the data\n",
    "x = arange(-5,15,0.1)\n",
    "# Plot a normal distribution: \"Probability density functions\"\n",
    "myMean = 5\n",
    "mySD = 2\n",
    "y = normpdf(x, myMean, mySD)\n",
    "# or: y = stats.norm.pdf(x, myMean, mySD)\n",
    "plot(x,y)\n",
    "title('Shifted Normal Distribution')"
   ]
  },
  {
   "cell_type": "markdown",
   "metadata": {
    "slideshow": {
     "slide_type": "subslide"
    }
   },
   "source": [
    "## Random numbers with a normal distribution"
   ]
  },
  {
   "cell_type": "code",
   "execution_count": null,
   "metadata": {
    "slideshow": {
     "slide_type": "fragment"
    }
   },
   "outputs": [],
   "source": [
    "numData = 500\n",
    "data = stats.norm.rvs(myMean, mySD, size = numData)\n",
    "plot(data, '.')\n",
    "title('Normally distributed data')\n",
    "show()\n",
    "\n",
    "hist(data)\n",
    "title('Histogram of normally distributed data')"
   ]
  },
  {
   "cell_type": "markdown",
   "metadata": {
    "slideshow": {
     "slide_type": "subslide"
    }
   },
   "source": [
    "## Multiple normal sample distributions"
   ]
  },
  {
   "cell_type": "code",
   "execution_count": null,
   "metadata": {
    "slideshow": {
     "slide_type": "fragment"
    }
   },
   "outputs": [],
   "source": [
    "'''Show multiple samples from the same distribution, and compare means.'''\n",
    "# Do this 25 times, and show the histograms\n",
    "numRows = 5\n",
    "numData = 100\n",
    "for ii in range(numRows):\n",
    "    for jj in range(numRows):\n",
    "        data = stats.norm.rvs(myMean, mySD, size=numData)\n",
    "        subplot(numRows,numRows,numRows*ii+jj+1)\n",
    "        hist(data)\n",
    "\n",
    "        xticks([])\n",
    "        yticks([])\n",
    "        xlim(myMean-3*mySD, myMean+3*mySD)\n",
    "\n",
    "tight_layout()\n",
    "show()\n",
    "\n",
    "# Check out the mean of 1000 normally distributded samples\n",
    "numTrials = 1000;\n",
    "numData = 100\n",
    "myMeans = ones(numTrials)*nan\n",
    "for ii in range(numTrials):\n",
    "    data = stats.norm.rvs(myMean, mySD, size=numData)\n",
    "    myMeans[ii] = mean(data)\n",
    "print('The standard error of the mean, with {0} samples, is {1:5.3f}'.format(numData, std(myMeans)))"
   ]
  },
  {
   "cell_type": "markdown",
   "metadata": {
    "slideshow": {
     "slide_type": "slide"
    }
   },
   "source": [
    "## Normality Check"
   ]
  },
  {
   "cell_type": "code",
   "execution_count": null,
   "metadata": {
    "slideshow": {
     "slide_type": "fragment"
    }
   },
   "outputs": [],
   "source": [
    "'''Check if the distribution is normal.'''\n",
    "# Generate and show a distribution\n",
    "numData = 100\n",
    "data = stats.norm.rvs(myMean, mySD, size=numData)\n",
    "hist(data)"
   ]
  },
  {
   "cell_type": "code",
   "execution_count": null,
   "metadata": {
    "slideshow": {
     "slide_type": "subslide"
    }
   },
   "outputs": [],
   "source": [
    "# Graphical test: if the data lie on a line, they are pretty much\n",
    "# normally distributed\n",
    "_ = stats.probplot(data, plot=plt)"
   ]
  },
  {
   "cell_type": "code",
   "execution_count": null,
   "metadata": {
    "slideshow": {
     "slide_type": "subslide"
    }
   },
   "outputs": [],
   "source": [
    "# The scipy \"normaltest\" is based on D’Agostino and Pearson’s test that\n",
    "# combines skew and kurtosis to produce an omnibus test of normality.\n",
    "_, pVal = stats.normaltest(data)\n",
    "\n",
    "# Or you can check for normality with Kolmogorov-Smirnov test: but this is only advisable for large sample numbers!\n",
    "#_,pVal = stats.kstest((data-np.mean(data))/np.std(data,ddof=1), 'norm')\n",
    "\n",
    "if pVal > 0.05:\n",
    "    print('Data are probably normally distributed')\n"
   ]
  },
  {
   "cell_type": "markdown",
   "metadata": {
    "slideshow": {
     "slide_type": "slide"
    }
   },
   "source": [
    "## Values from the Cumulative Distribution Function"
   ]
  },
  {
   "cell_type": "code",
   "execution_count": null,
   "metadata": {
    "slideshow": {
     "slide_type": "fragment"
    }
   },
   "outputs": [],
   "source": [
    "'''Calculate an empirical cumulative distribution function, compare it with the exact one, and\n",
    "find the exact point for a specific data value.'''\n",
    "\n",
    "# Generate normally distributed random data\n",
    "myMean = 5\n",
    "mySD = 2\n",
    "numData = 100\n",
    "data = stats.norm.rvs(myMean, mySD, size=numData)\n",
    "\n",
    "# Calculate the cumulative distribution function, CDF\n",
    "numbins = 20\n",
    "counts, bin_edges = histogram(data, bins=numbins, normed=True)\n",
    "cdf = cumsum(counts)\n",
    "cdf /= max(cdf)\n",
    "\n",
    "# compare with the exact CDF\n",
    "step(bin_edges[1:],cdf)\n",
    "plot(x, stats.norm.cdf(x, myMean, mySD),'r')\n",
    "\n",
    "# Find out the value corresponding to the x-th percentile: the\n",
    "# \"cumulative distribution function\"\n",
    "value = 2\n",
    "myMean = 5\n",
    "mySD = 2\n",
    "cdf = stats.norm.cdf(value, myMean, mySD)\n",
    "print(('With a threshold of {0:4.2f}, you get {1}% of the data'.format(value, round(cdf*100))))\n",
    "\n",
    "# For the percentile corresponding to a certain value: \n",
    "# the \"inverse cumulative distribution function\" \n",
    "value = 0.025\n",
    "icdf = stats.norm.isf(value, myMean, mySD)\n",
    "print('To get {0}% of the data, you need a threshold of {1:4.2f}.'.format((1-value)*100, icdf))"
   ]
  }
 ],
 "metadata": {
  "celltoolbar": "Slideshow",
  "kernelspec": {
   "display_name": "Python 3",
   "language": "python",
   "name": "python3"
  },
  "language_info": {
   "codemirror_mode": {
    "name": "ipython",
    "version": 3
   },
   "file_extension": ".py",
   "mimetype": "text/x-python",
   "name": "python",
   "nbconvert_exporter": "python",
   "pygments_lexer": "ipython3",
   "version": "3.6.7"
  },
  "latex_envs": {
   "LaTeX_envs_menu_present": true,
   "autoclose": false,
   "autocomplete": true,
   "bibliofile": "biblio.bib",
   "cite_by": "apalike",
   "current_citInitial": 1,
   "eqLabelWithNumbers": true,
   "eqNumInitial": 1,
   "hotkeys": {
    "equation": "Ctrl-E",
    "itemize": "Ctrl-I"
   },
   "labels_anchors": false,
   "latex_user_defs": false,
   "report_style_numbering": false,
   "user_envs_cfg": false
  }
 },
 "nbformat": 4,
 "nbformat_minor": 1
}
