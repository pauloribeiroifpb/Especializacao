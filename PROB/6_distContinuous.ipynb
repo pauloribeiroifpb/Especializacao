{
 "cells": [
  {
   "cell_type": "markdown",
   "metadata": {
    "slideshow": {
     "slide_type": "slide"
    }
   },
   "source": [
    "# Continuous Distribution Functions- Normal distribution\n",
    "\n",
    "- Exponential distribution\n",
    "- T-distribution\n",
    "- F-distribution\n",
    "- Logistic distribution\n",
    "- Lognormal distribution\n",
    "- Uniform distribution\n",
    "\n",
    "Author:  Thomas Haslwanter, Feb-2017"
   ]
  },
  {
   "cell_type": "code",
   "execution_count": null,
   "metadata": {
    "slideshow": {
     "slide_type": "subslide"
    }
   },
   "outputs": [],
   "source": [
    "# Note: here I use the iPython approach, which is best suited for interactive work\n",
    "%pylab inline\n",
    "from scipy import stats\n",
    "matplotlib.rcParams.update({'font.size': 18})"
   ]
  },
  {
   "cell_type": "markdown",
   "metadata": {
    "slideshow": {
     "slide_type": "slide"
    }
   },
   "source": [
    "## Function Definition\n",
    "\n",
    "The following function will be used to show the different distributions functions"
   ]
  },
  {
   "cell_type": "code",
   "execution_count": null,
   "metadata": {
    "slideshow": {
     "slide_type": "fragment"
    }
   },
   "outputs": [],
   "source": [
    "x = linspace(-10,10,201)\n",
    "def showDistribution(d1, d2, tTxt, xTxt, yTxt, legendTxt, xmin=-10, xmax=10):\n",
    "    '''Utility function to show the distributions, and add labels and title.'''\n",
    "    plot(x, d1.pdf(x))\n",
    "    if d2 != '':\n",
    "        plot(x, d2.pdf(x), 'r')\n",
    "        legend(legendTxt)\n",
    "    xlim(xmin, xmax)\n",
    "    title(tTxt)\n",
    "    xlabel(xTxt)\n",
    "    ylabel(yTxt)\n",
    "    show()  "
   ]
  },
  {
   "cell_type": "markdown",
   "metadata": {
    "slideshow": {
     "slide_type": "slide"
    }
   },
   "source": [
    "## Normal distribution"
   ]
  },
  {
   "cell_type": "code",
   "execution_count": null,
   "metadata": {
    "slideshow": {
     "slide_type": "fragment"
    }
   },
   "outputs": [],
   "source": [
    "showDistribution(stats.norm, stats.norm(loc=2, scale=4),\n",
    "                 'Normal Distribution', 'Z', 'P(Z)','')"
   ]
  },
  {
   "cell_type": "code",
   "execution_count": null,
   "metadata": {
    "slideshow": {
     "slide_type": "slide"
    }
   },
   "outputs": [],
   "source": [
    "# Exponential distribution\n",
    "showDistribution(stats.expon, stats.expon(loc=-2, scale=4),\n",
    "                 'Exponential Distribution', 'X', 'P(X)','')"
   ]
  },
  {
   "cell_type": "markdown",
   "metadata": {
    "slideshow": {
     "slide_type": "slide"
    }
   },
   "source": [
    "## Students' T-distribution"
   ]
  },
  {
   "cell_type": "code",
   "execution_count": null,
   "metadata": {
    "slideshow": {
     "slide_type": "fragment"
    }
   },
   "outputs": [],
   "source": [
    "# ... with 4, and with 10 degrees of freedom (DOF)\n",
    "plot(x, stats.norm.pdf(x), 'g')\n",
    "showDistribution(stats.t(4), stats.t(10),\n",
    "                 'T-Distribution', 'X', 'P(X)',['normal', 't=4', 't=10'])"
   ]
  },
  {
   "cell_type": "markdown",
   "metadata": {
    "slideshow": {
     "slide_type": "slide"
    }
   },
   "source": [
    "## F-distribution"
   ]
  },
  {
   "cell_type": "code",
   "execution_count": null,
   "metadata": {
    "slideshow": {
     "slide_type": "fragment"
    }
   },
   "outputs": [],
   "source": [
    "# ... with (3,4) and (10,15) DOF\n",
    "showDistribution(stats.f(3,4), stats.f(10,15),\n",
    "                 'F-Distribution', 'F', 'P(F)',['(3,4) DOF', '(10,15) DOF'])"
   ]
  },
  {
   "cell_type": "markdown",
   "metadata": {
    "slideshow": {
     "slide_type": "slide"
    }
   },
   "source": [
    "## Uniform distribution"
   ]
  },
  {
   "cell_type": "code",
   "execution_count": null,
   "metadata": {
    "slideshow": {
     "slide_type": "fragment"
    }
   },
   "outputs": [],
   "source": [
    "showDistribution(stats.uniform,'' ,\n",
    "                 'Uniform Distribution', 'X', 'P(X)','')"
   ]
  },
  {
   "cell_type": "markdown",
   "metadata": {
    "slideshow": {
     "slide_type": "slide"
    }
   },
   "source": [
    "## Logistic distribution"
   ]
  },
  {
   "cell_type": "code",
   "execution_count": null,
   "metadata": {
    "slideshow": {
     "slide_type": "fragment"
    }
   },
   "outputs": [],
   "source": [
    "showDistribution(stats.norm, stats.logistic,\n",
    "                 'Logistic Distribution', 'X', 'P(X)',['Normal', 'Logistic'])"
   ]
  },
  {
   "cell_type": "markdown",
   "metadata": {
    "slideshow": {
     "slide_type": "slide"
    }
   },
   "source": [
    "## Lognormal distribution"
   ]
  },
  {
   "cell_type": "code",
   "execution_count": null,
   "metadata": {
    "slideshow": {
     "slide_type": "fragment"
    }
   },
   "outputs": [],
   "source": [
    "x = logspace(-9,1,1001)+1e-9\n",
    "showDistribution(stats.lognorm(2), '',\n",
    "                 'Lognormal Distribution', 'X', 'lognorm(X)','', xmin=-0.1)"
   ]
  },
  {
   "cell_type": "code",
   "execution_count": null,
   "metadata": {
    "slideshow": {
     "slide_type": "subslide"
    }
   },
   "outputs": [],
   "source": [
    "# The log-lin plot has to be done by hand:\n",
    "plot(log(x), stats.lognorm.pdf(x,2))\n",
    "xlim(-10, 4)\n",
    "title('Lognormal Distribution')\n",
    "xlabel('log(X)')\n",
    "ylabel('lognorm(X)')"
   ]
  }
 ],
 "metadata": {
  "celltoolbar": "Slideshow",
  "kernelspec": {
   "display_name": "Python 3",
   "language": "python",
   "name": "python3"
  },
  "language_info": {
   "codemirror_mode": {
    "name": "ipython",
    "version": 3
   },
   "file_extension": ".py",
   "mimetype": "text/x-python",
   "name": "python",
   "nbconvert_exporter": "python",
   "pygments_lexer": "ipython3",
   "version": "3.6.7"
  },
  "latex_envs": {
   "LaTeX_envs_menu_present": true,
   "autoclose": false,
   "autocomplete": true,
   "bibliofile": "biblio.bib",
   "cite_by": "apalike",
   "current_citInitial": 1,
   "eqLabelWithNumbers": true,
   "eqNumInitial": 1,
   "hotkeys": {
    "equation": "Ctrl-E",
    "itemize": "Ctrl-I"
   },
   "labels_anchors": false,
   "latex_user_defs": false,
   "report_style_numbering": false,
   "user_envs_cfg": false
  }
 },
 "nbformat": 4,
 "nbformat_minor": 1
}
