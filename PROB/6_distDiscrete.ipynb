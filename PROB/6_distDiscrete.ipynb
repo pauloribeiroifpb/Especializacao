{
 "cells": [
  {
   "cell_type": "markdown",
   "metadata": {
    "slideshow": {
     "slide_type": "slide"
    }
   },
   "source": [
    "# Discrete Distribution Functions\n",
    "\n",
    "- Binomial distribution\n",
    "- Poisson distribution (PMF, CDF, and PPF)\n",
    "\n",
    "Author:  Thomas Haslwanter, Feb-2017"
   ]
  },
  {
   "cell_type": "code",
   "execution_count": null,
   "metadata": {
    "slideshow": {
     "slide_type": "fragment"
    }
   },
   "outputs": [],
   "source": [
    "# Note: here I use the modular approach, which is more appropriate for scripts\n",
    "# \"%pylab inline\" also loads numpy as np, and matplotlib.pyplot as plt\n",
    "%pylab inline\n",
    "import scipy.stats as stats"
   ]
  },
  {
   "cell_type": "markdown",
   "metadata": {
    "slideshow": {
     "slide_type": "slide"
    }
   },
   "source": [
    "## Binomial Distribution"
   ]
  },
  {
   "cell_type": "code",
   "execution_count": null,
   "metadata": {
    "slideshow": {
     "slide_type": "fragment"
    }
   },
   "outputs": [],
   "source": [
    "bd1 = stats.binom(20, 0.5)\n",
    "bd2 = stats.binom(20, 0.7)\n",
    "bd3 = stats.binom(40, 0.5)\n",
    "k = arange(40)\n",
    "plot(k, bd1.pmf(k), 'o-b')\n",
    "plot(k, bd2.pmf(k), 'd-r')\n",
    "plot(k, bd3.pmf(k), 's-g')\n",
    "title('Binomial distribition')\n",
    "legend(['p=0.5 and n=20', 'p=0.7 and n=20', 'p=0.5 and n=40'])\n",
    "xlabel('X')\n",
    "ylabel('P(X)')"
   ]
  },
  {
   "cell_type": "markdown",
   "metadata": {
    "slideshow": {
     "slide_type": "slide"
    }
   },
   "source": [
    "## Poisson Distribution"
   ]
  },
  {
   "cell_type": "code",
   "execution_count": null,
   "metadata": {
    "slideshow": {
     "slide_type": "fragment"
    }
   },
   "outputs": [],
   "source": [
    "pd = stats.poisson(10)\n",
    "plot(k, pd.pmf(k),'x-')\n",
    "title('Poisson distribition - PMF')\n",
    "xlabel('X')\n",
    "ylabel('P(X)')"
   ]
  },
  {
   "cell_type": "markdown",
   "metadata": {
    "slideshow": {
     "slide_type": "subslide"
    }
   },
   "source": [
    "### Different Views of the Poisson Distrubution"
   ]
  },
  {
   "cell_type": "code",
   "execution_count": null,
   "metadata": {
    "slideshow": {
     "slide_type": "fragment"
    }
   },
   "outputs": [],
   "source": [
    "k = arange(30)\n",
    "plot(k, pd.cdf(k))\n",
    "title('Poisson distribition - CDF')\n",
    "xlabel('X')\n",
    "ylabel('P(X)')"
   ]
  },
  {
   "cell_type": "code",
   "execution_count": null,
   "metadata": {
    "slideshow": {
     "slide_type": "subslide"
    }
   },
   "outputs": [],
   "source": [
    "y = linspace(0,1,100)\n",
    "plot(y, pd.ppf(y))\n",
    "title('Poisson distribition - PPF')\n",
    "xlabel('X')\n",
    "ylabel('P(X)')"
   ]
  }
 ],
 "metadata": {
  "celltoolbar": "Slideshow",
  "kernelspec": {
   "display_name": "Python 3",
   "language": "python",
   "name": "python3"
  },
  "language_info": {
   "codemirror_mode": {
    "name": "ipython",
    "version": 3
   },
   "file_extension": ".py",
   "mimetype": "text/x-python",
   "name": "python",
   "nbconvert_exporter": "python",
   "pygments_lexer": "ipython3",
   "version": "3.6.7"
  },
  "latex_envs": {
   "LaTeX_envs_menu_present": true,
   "autoclose": false,
   "autocomplete": true,
   "bibliofile": "biblio.bib",
   "cite_by": "apalike",
   "current_citInitial": 1,
   "eqLabelWithNumbers": true,
   "eqNumInitial": 1,
   "hotkeys": {
    "equation": "Ctrl-E",
    "itemize": "Ctrl-I"
   },
   "labels_anchors": false,
   "latex_user_defs": false,
   "report_style_numbering": false,
   "user_envs_cfg": false
  }
 },
 "nbformat": 4,
 "nbformat_minor": 1
}
